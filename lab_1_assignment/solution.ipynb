{
 "cells": [
  {
   "cell_type": "code",
   "execution_count": 3,
   "id": "4e8638b9-ba9d-43f5-a9c9-0cc4ce7cf35e",
   "metadata": {
    "tags": []
   },
   "outputs": [],
   "source": [
    "import numpy as np # linear algebra\n",
    "import matplotlib.pyplot as plt # visualization"
   ]
  },
  {
   "cell_type": "code",
   "execution_count": 4,
   "id": "79c7612a-20fb-4e48-bcbb-eaf397692399",
   "metadata": {
    "tags": []
   },
   "outputs": [],
   "source": [
    "batman = np.array([[0, 0], \n",
    "                   [1, 0.2], \n",
    "                   [0.4, 1], \n",
    "                   [0.5, 0.4], \n",
    "                   [0, 0.8], \n",
    "                   [-0.5, 0.4], \n",
    "                   [-0.4, 1], \n",
    "                   [-1, 0.2], \n",
    "                   [0, 0]])"
   ]
  },
  {
   "cell_type": "code",
   "execution_count": 76,
   "id": "c44c5405-2ed7-48d3-ad86-283dab4b9ea1",
   "metadata": {
    "tags": []
   },
   "outputs": [
    {
     "data": {
      "image/png": "[encoded data removed]",
      "text/plain": [
       "<Figure size 576x432 with 1 Axes>"
      ]
     },
     "metadata": {
      "needs_background": "light"
     },
     "output_type": "display_data"
    }
   ],
   "source": [
    "import matplotlib.pyplot as plt\n",
    "import numpy as npq\n",
    "\n",
    "batman = np.array([[0, 0], [1, 0.2], [0.4, 1], [0.5, 0.4], [0, 0.8], [-0.5, 0.4], [-0.4, 1], [-1, 0.2], [0, 0]])\n",
    "\n",
    "plt.figure(figsize=(8, 6))\n",
    "\n",
    "plt.plot(batman[:, 0], batman[:, 1], 'r-', label='batman')\n",
    "\n",
    "plt.xlim(-1, 5)\n",
    "plt.ylim(-1, 2)\n",
    "plt.axhline(0, color='black',linewidth=0.5)\n",
    "plt.axvline(0, color='black',linewidth=0.5)\n",
    "plt.grid(color = 'gray', linestyle = '-', linewidth = 0.5)\n",
    "\n",
    "plt.gca().set_aspect('equal', adjustable='box')\n",
    "\n",
    "plt.show()"
   ]
  },
  {
   "cell_type": "code",
   "execution_count": 96,
   "id": "e419b58e",
   "metadata": {},
   "outputs": [
    {
     "data": {
      "image/png": "[encoded data removed]",
      "text/plain": [
       "<Figure size 432x288 with 1 Axes>"
      ]
     },
     "metadata": {
      "needs_background": "light"
     },
     "output_type": "display_data"
    }
   ],
   "source": [
    "def rotate(angle):\n",
    "        angle_radians = np.radians(angle)\n",
    "        rotate = np.array([[np.cos(angle_radians), -np.sin(angle_radians)],\n",
    "                          [np.sin(angle_radians), np.cos(angle_radians)]])\n",
    "        return rotate\n",
    "    \n",
    "res = batman @ rotate(90)\n",
    "\n",
    "plt.plot(sth[:, 0], sth[:, 1], 'r-', label='batman')\n",
    "\n",
    "plt.axhline(0, color='black',linewidth=0.5)\n",
    "plt.axvline(0, color='black',linewidth=0.5)\n",
    "plt.grid(color = 'gray', linestyle = '-', linewidth = 0.5)\n",
    "\n",
    "plt.gca().set_aspect('equal', adjustable='box')\n",
    "plt.show()"
   ]
  },
  {
   "cell_type": "code",
   "execution_count": 101,
   "id": "2cb1bc0e-e378-46a2-8115-36a49a8728ee",
   "metadata": {},
   "outputs": [],
   "source": [
    "class Transformers():\n",
    "    def __init__(self, origin_matrix):\n",
    "        self.origin_matrix = origin_matrix\n",
    "        \n",
    "    \n",
    "    def rotate(self, angle): # \n",
    "        radians = np.radians(angle)\n",
    "        rotate = np.array([[np.cos(radians), -np.sin(radians)],\n",
    "                          [np.sin(radians), np.cos(radians)]])\n",
    "        return Transformers(self.origin_matrix @ rotate)\n",
    "    \n",
    "    def scaling(self, k_x, k_y):\n",
    "        transform = np.array([[k_x, 0],\n",
    "                             [0, k_y]])\n",
    "        return Transformers(self.origin_matrix @ transform)\n",
    "    \n",
    "    def reflection_x(self):\n",
    "        transform = np.array([[1, 0],\n",
    "                             [0, -1]])\n",
    "        \n",
    "        return Transformers(self.origin_matrix @ transform)\n",
    "    \n",
    "    def reflection_y(self):\n",
    "        transform = np.array([[-1, 0],\n",
    "                             [0, 1]])\n",
    "        \n",
    "        return Transformers(self.origin_matrix @ transform)\n",
    "    \n",
    "    def move_x(self, angle):\n",
    "        radians = np.radians(angle)\n",
    "        transform = np.array([[1, np.tan(radians)],\n",
    "                             [0, 1]])\n",
    "        return Transformers(self.origin_matrix @ transform)\n",
    "    \n",
    "    def move_y(self, angle):\n",
    "        radians = np.radians(angle)\n",
    "        transform = np.array([[1, 0], \n",
    "                              [np.tan(radians), 1]])\n",
    "        return Transformers(self.origin_matrix @ transform)\n",
    "    \n",
    "    def any_transforamtion(self, matrix): \n",
    "        return Transformers(self.origin_matrix @ matrix)\n",
    "    \n",
    "    def visualizatin(self): # візуалізація\n",
    "        plt.plot(self.origin_matrix[:, 0], self.origin_matrix[:, 1], 'r-', label='batman')\n",
    "\n",
    "        plt.axhline(0, color='black',linewidth=0.5)\n",
    "        plt.axvline(0, color='black',linewidth=0.5)\n",
    "        plt.grid(color = 'gray', linestyle = '-', linewidth = 0.5)\n",
    "\n",
    "        plt.gca().set_aspect('equal', adjustable='box')\n",
    "        plt.show()\n",
    "        \n",
    "        "
   ]
  },
  {
   "cell_type": "code",
   "execution_count": 102,
   "id": "37a8e70e",
   "metadata": {},
   "outputs": [],
   "source": [
    "trans = Transformers(batman)"
   ]
  },
  {
   "cell_type": "code",
   "execution_count": 105,
   "id": "3e612ebc",
   "metadata": {},
   "outputs": [],
   "source": [
    "sth = trans.rotate(90)"
   ]
  },
  {
   "cell_type": "code",
   "execution_count": 106,
   "id": "439c870e",
   "metadata": {},
   "outputs": [
    {
     "data": {
      "image/png": "[encoded data removed]",
      "text/plain": [
       "<Figure size 432x288 with 1 Axes>"
      ]
     },
     "metadata": {
      "needs_background": "light"
     },
     "output_type": "display_data"
    }
   ],
   "source": [
    "sth.visualizatin()"
   ]
  },
  {
   "cell_type": "code",
   "execution_count": null,
   "id": "bccada44",
   "metadata": {},
   "outputs": [],
   "source": []
  }
 ],
 "metadata": {
  "kernelspec": {
   "display_name": "Python 3 (ipykernel)",
   "language": "python",
   "name": "python3"
  },
  "language_info": {
   "codemirror_mode": {
    "name": "ipython",
    "version": 3
   },
   "file_extension": ".py",
   "mimetype": "text/x-python",
   "name": "python",
   "nbconvert_exporter": "python",
   "pygments_lexer": "ipython3",
   "version": "3.10.3"
  }
 },
 "nbformat": 4,
 "nbformat_minor": 5
}
