{
 "cells": [
  {
   "cell_type": "code",
   "execution_count": 1,
   "id": "27b49d66",
   "metadata": {},
   "outputs": [],
   "source": [
    "import numpy as np\n",
    "import matplotlib.pyplot as plt\n",
    "batman = np.array([[0, 0], # batman\n",
    "                   [1, 0.2], \n",
    "                   [0.4, 1], \n",
    "                   [0.5, 0.4], \n",
    "                   [0, 0.8], \n",
    "                   [-0.5, 0.4], \n",
    "                   [-0.4, 1], \n",
    "                   [-1, 0.2], \n",
    "                   [0, 0]])\n",
    "\n",
    "plt.figure(figsize=(6, 6))\n",
    "plt.fill(batman[:, 0], batman[:, 1], 'k')  \n",
    "plt.axis('equal')  \n",
    "plt.axis('off') \n",
    "plt.savefig('batman.png', bbox_inches='tight', pad_inches=0) \n",
    "plt.close()  \n"
   ]
  }
 ],
 "metadata": {
  "kernelspec": {
   "display_name": "Python 3 (ipykernel)",
   "language": "python",
   "name": "python3"
  },
  "language_info": {
   "codemirror_mode": {
    "name": "ipython",
    "version": 3
   },
   "file_extension": ".py",
   "mimetype": "text/x-python",
   "name": "python",
   "nbconvert_exporter": "python",
   "pygments_lexer": "ipython3",
   "version": "3.10.3"
  }
 },
 "nbformat": 4,
 "nbformat_minor": 5
}
