{
 "cells": [
  {
   "cell_type": "code",
   "execution_count": 1,
   "id": "c7f5a46e",
   "metadata": {
    "ExecuteTime": {
     "end_time": "2024-05-29T08:39:13.799248Z",
     "start_time": "2024-05-29T08:39:11.782511Z"
    }
   },
   "outputs": [
    {
     "name": "stderr",
     "output_type": "stream",
     "text": [
      "/Library/Frameworks/Python.framework/Versions/3.10/lib/python3.10/site-packages/tqdm/auto.py:21: TqdmWarning: IProgress not found. Please update jupyter and ipywidgets. See https://ipywidgets.readthedocs.io/en/stable/user_install.html\n",
      "  from .autonotebook import tqdm as notebook_tqdm\n"
     ]
    }
   ],
   "source": [
    "import torch\n",
    "import torchvision.transforms as transforms\n",
    "import torchvision.transforms.functional as F\n",
    "import matplotlib.pyplot as plt\n",
    "from PIL import Image\n",
    "import warnings # skip warns\n",
    "warnings.filterwarnings(\"ignore\")"
   ]
  },
  {
   "cell_type": "code",
   "execution_count": 20,
   "id": "9cc816c6",
   "metadata": {
    "ExecuteTime": {
     "end_time": "2024-05-29T08:40:06.978716Z",
     "start_time": "2024-05-29T08:40:06.882719Z"
    }
   },
   "outputs": [
    {
     "data": {
      "image/png": "[encoded data removed]",
      "text/plain": [
       "<Figure size 432x432 with 1 Axes>"
      ]
     },
     "metadata": {
      "needs_background": "light"
     },
     "output_type": "display_data"
    }
   ],
   "source": [
    "img = Image.open('batman.png')\n",
    "\n",
    "transform = transforms.Compose([\n",
    "    transforms.ToTensor(),\n",
    "    transforms.Lambda(lambda x: F.rotate(x, angle=90)), # поворот\n",
    "    #transforms.Resize((img.width // 2, img.height // 2)), # масштабування\n",
    "    #transforms.RandomAffine(degrees=90, shear=10), # нахил\n",
    "    #transforms.RandomVerticalFlip(1) # відзеркалюування відносно 0x\n",
    "    \n",
    "])\n",
    "\n",
    "tensor_image = transform(img)\n",
    "\n",
    "\n",
    "\n",
    "transform_to_pil = transforms.ToPILImage()\n",
    "rotated_image = transform_to_pil(tensor_image)\n",
    "\n",
    "plt.figure(figsize=(6, 6))\n",
    "plt.imshow(rotated_image)\n",
    "\n",
    "plt.show()"
   ]
  },
  {
   "cell_type": "code",
   "execution_count": 9,
   "id": "7f749709",
   "metadata": {},
   "outputs": [],
   "source": [
    "class Transformers2D():\n",
    "    def __init__(self, origin_matrix, marker='Почтакова матриця '):\n",
    "        self.origin_matrix = origin_matrix\n",
    "        self.marker = ' ' + marker\n",
    "    \n",
    "    def rotate(self, angle): \n",
    "        radians = np.radians(angle)\n",
    "        rotate = np.array([[np.cos(radians), -np.sin(radians)],\n",
    "                          [np.sin(radians), np.cos(radians)]])\n",
    "        return Transformers2D(self.origin_matrix @ rotate, marker=self.marker + f'повернтий на {angle} градусів; ')\n",
    "    \n",
    "    def scaling(self, k_x=1, k_y=1):\n",
    "        transform = np.array([[k_x, 0],\n",
    "                             [0, k_y]])\n",
    "        return Transformers2D(self.origin_matrix @ transform, marker=f'збільшений у {k_x} по 0x і у {k_y} по 0y; ')\n",
    "    \n",
    "    def reflection_x(self):\n",
    "        transform = np.array([[1, 0],\n",
    "                             [0, -1]])\n",
    "        \n",
    "        return Transformers2D(self.origin_matrix @ transform, marker=f'Об\\'єкт відзеркалений відносно вісі 0x; ')\n",
    "    \n",
    "    def reflection_y(self):\n",
    "        transform = np.array([[-1, 0],\n",
    "                             [0, 1]])\n",
    "        \n",
    "        return Transformers2D(self.origin_matrix @ transform, marker=f'Об\\'єкт відзеркалений відносно вісі 0y; ')\n",
    "    \n",
    "    def move_x(self, angle):\n",
    "        radians = np.radians(angle)\n",
    "        transform = np.array([[1, np.tan(radians)],\n",
    "                             [0, 1]])\n",
    "        return Transformers2D(self.origin_matrix @ transform, marker=f'Нахил осі координат на кут 0x на {angle}; ')\n",
    "    \n",
    "    def move_y(self, angle):\n",
    "        radians = np.radians(angle)\n",
    "        transform = np.array([[1, 0], \n",
    "                              [np.tan(radians), 1]])\n",
    "        return Transformers2D(self.origin_matrix @ transform, marker=f'ОНахил осі координат на кут 0y на {angle}; ')\n",
    "    \n",
    "    def any_transforamtion(self, matrix): # будь-яка матрциця перетворення\n",
    "        return Transformers2D(self.origin_matrix @ matrix, marker= 'довільне перетворення; ')\n",
    "    \n",
    "    def visualizatin(self): # візуалізація\n",
    "        plt.plot(self.origin_matrix[:, 0], self.origin_matrix[:, 1], 'r-', color='green')\n",
    "\n",
    "        plt.axhline(0, color='black',linewidth=0.5)\n",
    "        plt.axvline(0, color='black',linewidth=0.5)\n",
    "        plt.grid(color = 'black', linestyle = '-', linewidth = 0.5)\n",
    "        plt.gca().set_aspect('equal', adjustable='box')\n",
    "        plt.title(self.marker)\n",
    "        ax = plt.gca()\n",
    "        ax.spines['left'].set_linewidth(2)\n",
    "        ax.spines['left'].set_color('black')\n",
    "        ax.spines['bottom'].set_linewidth(2)\n",
    "        ax.spines['bottom'].set_color('black')\n",
    "\n",
    "        ax.spines['right'].set_color('none')\n",
    "        ax.spines['top'].set_color('none')\n",
    "        plt.show()\n",
    "        \n",
    "        "
   ]
  },
  {
   "cell_type": "code",
   "execution_count": 10,
   "id": "337c3b93",
   "metadata": {},
   "outputs": [],
   "source": [
    "import numpy as np"
   ]
  },
  {
   "cell_type": "code",
   "execution_count": 11,
   "id": "73f6156b",
   "metadata": {},
   "outputs": [],
   "source": [
    "batman = np.array([[0, 0], \n",
    "                   [1, 0.2], \n",
    "                   [0.4, 1], \n",
    "                   [0.5, 0.4], \n",
    "                   [0, 0.8], \n",
    "                   [-0.5, 0.4], \n",
    "                   [-0.4, 1], \n",
    "                   [-1, 0.2], \n",
    "                   [0, 0]])"
   ]
  },
  {
   "cell_type": "code",
   "execution_count": 12,
   "id": "b7f3717c",
   "metadata": {},
   "outputs": [],
   "source": [
    "transformer = Transformers2D(batman)"
   ]
  },
  {
   "cell_type": "code",
   "execution_count": 14,
   "id": "66e00e7c",
   "metadata": {},
   "outputs": [
    {
     "data": {
      "image/png": "[encoded data removed]",
      "text/plain": [
       "<Figure size 432x288 with 1 Axes>"
      ]
     },
     "metadata": {
      "needs_background": "light"
     },
     "output_type": "display_data"
    }
   ],
   "source": [
    "transformer.rotate(90).visualizatin()"
   ]
  },
  {
   "cell_type": "markdown",
   "id": "a4c75e1a",
   "metadata": {},
   "source": [
    "Матриця повороту працює за годиннковою стрілкою в моїй реалізації, і проти в torchvision"
   ]
  },
  {
   "cell_type": "code",
   "execution_count": null,
   "id": "43b921cf",
   "metadata": {},
   "outputs": [],
   "source": []
  }
 ],
 "metadata": {
  "kernelspec": {
   "display_name": "Python 3 (ipykernel)",
   "language": "python",
   "name": "python3"
  },
  "language_info": {
   "codemirror_mode": {
    "name": "ipython",
    "version": 3
   },
   "file_extension": ".py",
   "mimetype": "text/x-python",
   "name": "python",
   "nbconvert_exporter": "python",
   "pygments_lexer": "ipython3",
   "version": "3.10.3"
  }
 },
 "nbformat": 4,
 "nbformat_minor": 5
}
